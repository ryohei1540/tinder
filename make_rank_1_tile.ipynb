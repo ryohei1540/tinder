{
 "cells": [
  {
   "cell_type": "code",
   "execution_count": null,
   "metadata": {},
   "outputs": [],
   "source": [
    "import mysql.connector\n",
    "import pandas as pd\n",
    "import pandas.io.sql as psql\n",
    "import matplotlib.pyplot as plt\n",
    "import seaborn as sns\n",
    "sns.set(font_scale=1.5)\n",
    "import numpy as np\n",
    "import pickle\n",
    "import shutil\n",
    "import re\n",
    "from pathlib import Path\n",
    "from collections import defaultdict"
   ]
  },
  {
   "cell_type": "code",
   "execution_count": null,
   "metadata": {},
   "outputs": [],
   "source": [
    "target_pictures = {}\n",
    "src = sorted(Path('/xxx').glob('*.dump'))\n",
    "for i in src:\n",
    "    with open(i, 'rb') as f:\n",
    "        tmp = pickle.load(f)\n",
    "        target_pictures.update(tmp)"
   ]
  },
  {
   "cell_type": "code",
   "execution_count": null,
   "metadata": {},
   "outputs": [],
   "source": [
    "#顔が写っていない写真を抽出\n",
    "src = sorted(Path('/xxx').glob('not_person*'))\n",
    "for i in src:\n",
    "    no_faces = [str(x.name[:-6]) for x in i.iterdir()]\n",
    "    for i in list(target_pictures.keys()):\n",
    "        if i[:-2] in no_faces:\n",
    "            del target_pictures[i]"
   ]
  },
  {
   "cell_type": "code",
   "execution_count": null,
   "metadata": {},
   "outputs": [],
   "source": [
    "for i in list(target_pictures.keys()):\n",
    "    if target_pictures[i][\"faces\"][0][\"attributes\"][\"mouthstatus\"][\"surgical_mask_or_respirator\"] >= 90:\n",
    "        del target_pictures[i]\n",
    "        continue\n",
    "    if target_pictures[i][\"faces\"][0][\"attributes\"][\"glass\"][\"value\"] == \"Dark\":\n",
    "        del target_pictures[i]\n",
    "        continue\n",
    "    if target_pictures[i][\"faces\"][0][\"attributes\"][\"eyestatus\"][\"left_eye_status\"][\"occlusion\"] >= 90 or target_pictures[i][\"faces\"][0][\"attributes\"][\"eyestatus\"][\"right_eye_status\"][\"occlusion\"] >= 90:\n",
    "        del target_pictures[i]\n",
    "        continue\n",
    "    if target_pictures[i][\"faces\"][0][\"attributes\"][\"eyestatus\"][\"left_eye_status\"][\"no_glass_eye_close\"] >= 90 or target_pictures[i][\"faces\"][0][\"attributes\"][\"eyestatus\"][\"right_eye_status\"][\"no_glass_eye_close\"] >= 90:\n",
    "        del target_pictures[i]\n",
    "        continue\n",
    "    if target_pictures[i][\"faces\"][0][\"attributes\"][\"eyestatus\"][\"left_eye_status\"][\"normal_glass_eye_close\"] >= 90 or target_pictures[i][\"faces\"][0][\"attributes\"][\"eyestatus\"][\"right_eye_status\"][\"normal_glass_eye_close\"] >= 90:\n",
    "        del target_pictures[i]\n",
    "        continue\n",
    "    if target_pictures[i]['faces'][0]['face_rectangle']['top'] <= -55:\n",
    "        del target_pictures[i]\n",
    "        continue"
   ]
  },
  {
   "cell_type": "code",
   "execution_count": null,
   "metadata": {},
   "outputs": [],
   "source": [
    "pre_id = \"\"\n",
    "score_dict = defaultdict(list)\n",
    "work_dict = {}\n",
    "for i, a in target_pictures.items():\n",
    "    before_under_bar = i.find(\"_\")\n",
    "    id = i[:before_under_bar]\n",
    "    if id != pre_id and work_dict != {}:\n",
    "        #idが変わったら、値が一番大きいkeyとvalueを設定\n",
    "        max_kv = max(work_dict.items(), key=lambda x: x[1])\n",
    "        score_dict[max_kv[0]] = round(max_kv[1], 2)\n",
    "        work_dict.clear()\n",
    "    #idが変わるまで辞書に入れる\n",
    "    work_dict[i] = (a['faces'][0]['attributes']['beauty']['female_score'] + a['faces'][0]['attributes']['beauty']['male_score']) / 2\n",
    "    pre_id = id"
   ]
  },
  {
   "cell_type": "code",
   "execution_count": null,
   "metadata": {},
   "outputs": [],
   "source": [
    "id_score = {}\n",
    "df_list = []\n",
    "for i, v in score_dict.items():\n",
    "    key = re.match(r'(.*)_(.*)_(.*)', i)\n",
    "    data_list = [key.group(1), key.group(2), v]\n",
    "    df_list.append(data_list)"
   ]
  },
  {
   "cell_type": "code",
   "execution_count": null,
   "metadata": {},
   "outputs": [],
   "source": [
    "id_score = pd.DataFrame(list(df_list))"
   ]
  },
  {
   "cell_type": "code",
   "execution_count": null,
   "metadata": {},
   "outputs": [],
   "source": [
    "class Tinder:\n",
    "    def __init__(self):\n",
    "        self._cnx = mysql.connector.connect(user='xxx', password='xxx', database='tinder')\n",
    "        self._cursor = self._cnx.cursor()"
   ]
  },
  {
   "cell_type": "code",
   "execution_count": null,
   "metadata": {},
   "outputs": [],
   "source": [
    "t = Tinder()"
   ]
  },
  {
   "cell_type": "code",
   "execution_count": null,
   "metadata": {},
   "outputs": [],
   "source": [
    "user = psql.read_sql(\"select id, city, continent from users;\", t._cnx)"
   ]
  },
  {
   "cell_type": "code",
   "execution_count": null,
   "metadata": {},
   "outputs": [],
   "source": [
    "user = user.set_index(\"id\")\n",
    "face_score = id_score.rename(columns={0: 'id', 1: 'number_photo', 2: 'score'})\n",
    "face_score = face_score.set_index(\"id\")\n",
    "data = pd.concat([user, face_score], axis=1, join=\"inner\")"
   ]
  },
  {
   "cell_type": "code",
   "execution_count": null,
   "metadata": {},
   "outputs": [],
   "source": [
    "df_max = data.copy()\n",
    "df_max[\"max_score\"] = df_max.groupby('city')[\"score\"].transform('max')\n",
    "df_max = df_max[df_max['score'] == df_max['max_score']].sort_values(\"score\", ascending=False)"
   ]
  },
  {
   "cell_type": "code",
   "execution_count": null,
   "metadata": {},
   "outputs": [],
   "source": [
    "import cv2\n",
    "import numpy as np\n",
    "\n",
    "im_list = []\n",
    "for i, row in df_max.iterrows():\n",
    "    file_path = \"/xxx\" + row[\"city\"] + \"/\" + i + \"_\" + row[\"number_photo\"] + \"_1\" + \".jpg\"\n",
    "    im = cv2.imread(file_path)\n",
    "    im_list.append(im)"
   ]
  },
  {
   "cell_type": "code",
   "execution_count": null,
   "metadata": {},
   "outputs": [],
   "source": [
    "def concat_tile(im_list_2d):\n",
    "    return cv2.vconcat([cv2.hconcat(im_list_h) for im_list_h in im_list_2d])\n",
    "\n",
    "#同じサイズでないとタイル状に並べることができないため\n",
    "im_list = [cv2.resize(x, dsize=(640, 640)) for x in im_list]\n",
    "im_tile = concat_tile([[im_list[0], im_list[1], im_list[2], im_list[3]],\n",
    "                       [im_list[4], im_list[5], im_list[6], im_list[7]],\n",
    "                       [im_list[8], im_list[9], im_list[10], im_list[11]],\n",
    "                       [im_list[12], im_list[13], im_list[14], im_list[15]],\n",
    "                       [im_list[16], im_list[17], im_list[18], im_list[19]],\n",
    "                       [im_list[20], im_list[21], im_list[22], im_list[23]],\n",
    "                       [im_list[24], im_list[25], im_list[26], im_list[27]],\n",
    "                       [im_list[28], im_list[29], im_list[30], im_list[31]],\n",
    "                       [im_list[32], im_list[33], im_list[34], im_list[35]],\n",
    "                       [im_list[36], im_list[37], im_list[38], im_list[39]],\n",
    "                       [im_list[40], im_list[41], im_list[42], im_list[43]]])\n",
    "\n",
    "     \n",
    "cv2.imwrite('/tmp/opencv_concat_tile.jpg', im_tile)"
   ]
  }
 ],
 "metadata": {
  "kernelspec": {
   "display_name": "Python 3",
   "language": "python",
   "name": "python3"
  },
  "language_info": {
   "codemirror_mode": {
    "name": "ipython",
    "version": 3
   },
   "file_extension": ".py",
   "mimetype": "text/x-python",
   "name": "python",
   "nbconvert_exporter": "python",
   "pygments_lexer": "ipython3",
   "version": "3.7.0"
  }
 },
 "nbformat": 4,
 "nbformat_minor": 2
}
